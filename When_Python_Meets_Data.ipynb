{
  "nbformat": 4,
  "nbformat_minor": 0,
  "metadata": {
    "colab": {
      "provenance": [],
      "authorship_tag": "ABX9TyOGOmaRmKu0Z+kcS05or2Qx",
      "include_colab_link": true
    },
    "kernelspec": {
      "name": "python3",
      "display_name": "Python 3"
    },
    "language_info": {
      "name": "python"
    }
  },
  "cells": [
    {
      "cell_type": "markdown",
      "metadata": {
        "id": "view-in-github",
        "colab_type": "text"
      },
      "source": [
        "<a href=\"https://colab.research.google.com/github/Shashikumar-ezhilarasu/IGNITE-25-Webinar--Data-Science/blob/main/When_Python_Meets_Data.ipynb\" target=\"_parent\"><img src=\"https://colab.research.google.com/assets/colab-badge.svg\" alt=\"Open In Colab\"/></a>"
      ]
    },
    {
      "cell_type": "markdown",
      "source": [
        "**Introduction to Python Basics**<br>\n",
        "Python is a powerful, versatile, and beginner-friendly programming language. It is widely used in data analysis, machine learning, web development, and more. In this session, we’ll cover the following:\n",
        "<br>\n",
        "Data Types<br>\n",
        "Control Flow (If-Else, Loops)<br>\n",
        "Functions<br>\n",
        "Algorithms (Sorting, Searching)<br>"
      ],
      "metadata": {
        "id": "Zi1zM-xSAVOY"
      }
    },
    {
      "cell_type": "code",
      "execution_count": null,
      "metadata": {
        "id": "bB19H8c-_9-K"
      },
      "outputs": [],
      "source": []
    },
    {
      "cell_type": "markdown",
      "source": [
        "Python Data Types and Variables\n",
        "<br>\n",
        "Python supports several built-in data types to store various kinds of data.\n",
        "<br>\n",
        "Numeric Types: int, float, complex<br>\n",
        "Text Type: str<br>\n",
        "Boolean Type: bool<br>\n",
        "Collection Types: list, tuple, set, dict<br>"
      ],
      "metadata": {
        "id": "nX84CPyIAgXb"
      }
    },
    {
      "cell_type": "code",
      "source": [
        "# Numeric Types\n",
        "a = 10        # Integer\n",
        "b = 3.14      # Float\n",
        "c = 2 + 3j    # Complex number\n",
        "\n",
        "print(\"Integer:\", a)\n",
        "print(\"Float:\", b)\n",
        "print(\"Complex Number:\", c)\n",
        "\n",
        "# String\n",
        "name = \"Python\"\n",
        "print(\"String:\", name)\n",
        "\n",
        "# Boolean\n",
        "is_active = True\n",
        "print(\"Boolean:\", is_active)\n"
      ],
      "metadata": {
        "colab": {
          "base_uri": "https://localhost:8080/"
        },
        "id": "Tv3dhCHHAo9K",
        "outputId": "115e9127-4c47-4e1d-eb39-7d315bfa22f5"
      },
      "execution_count": 1,
      "outputs": [
        {
          "output_type": "stream",
          "name": "stdout",
          "text": [
            "Integer: 10\n",
            "Float: 3.14\n",
            "Complex Number: (2+3j)\n",
            "String: Python\n",
            "Boolean: True\n"
          ]
        }
      ]
    },
    {
      "cell_type": "markdown",
      "source": [
        "**Python Collections**: Lists, Tuples, Sets, and Dictionaries\n",
        "Theory<br>\n",
        "**Lists**: Mutable, ordered collection.<br>\n",
        "**Tuples**: Immutable, ordered collection.<br>\n",
        "**Sets**: Unordered collection with unique elements.<br>\n",
        "**Dictionaries**: Key-value pairs, unordered<br>"
      ],
      "metadata": {
        "id": "iA1yxF4PAuJ9"
      }
    },
    {
      "cell_type": "code",
      "source": [
        "# List\n",
        "fruits = [\"apple\", \"banana\", \"cherry\"]\n",
        "print(\"List:\", fruits)\n",
        "\n",
        "# Tuple\n",
        "coordinates = (10, 20)\n",
        "print(\"Tuple:\", coordinates)\n",
        "\n",
        "# Set\n",
        "unique_numbers = {1, 2, 3, 3}\n",
        "print(\"Set:\", unique_numbers)\n",
        "\n",
        "# Dictionary\n",
        "person = {\"name\": \"Alice\", \"age\": 25}\n",
        "print(\"Dictionary:\", person)\n"
      ],
      "metadata": {
        "colab": {
          "base_uri": "https://localhost:8080/"
        },
        "id": "WbSQDSonAqu1",
        "outputId": "ecdefb3e-77d3-4cd1-8f69-c305b171479b"
      },
      "execution_count": 2,
      "outputs": [
        {
          "output_type": "stream",
          "name": "stdout",
          "text": [
            "List: ['apple', 'banana', 'cherry']\n",
            "Tuple: (10, 20)\n",
            "Set: {1, 2, 3}\n",
            "Dictionary: {'name': 'Alice', 'age': 25}\n"
          ]
        }
      ]
    },
    {
      "cell_type": "markdown",
      "source": [
        "Control Flow in Python<br>\n",
        "\n",
        "Control flow statements allow the program to execute certain parts of the code based on conditions.\n",
        "<br>\n",
        "If-Else: Executes a block of code if a condition is true.<br>\n",
        "Loops: Repeat code execution<br>"
      ],
      "metadata": {
        "id": "XKZwnSzCA6Ja"
      }
    },
    {
      "cell_type": "markdown",
      "source": [
        "**If-Else**"
      ],
      "metadata": {
        "id": "RHuCzb7YBDEe"
      }
    },
    {
      "cell_type": "code",
      "source": [
        "x = 15\n",
        "if x > 10:\n",
        "    print(\"x is greater than 10\")\n",
        "else:\n",
        "    print(\"x is less than or equal to 10\")\n"
      ],
      "metadata": {
        "colab": {
          "base_uri": "https://localhost:8080/"
        },
        "id": "SzVBA6i2BItK",
        "outputId": "b1bc13e7-928d-48e5-8402-5651f603efb4"
      },
      "execution_count": 3,
      "outputs": [
        {
          "output_type": "stream",
          "name": "stdout",
          "text": [
            "x is greater than 10\n"
          ]
        }
      ]
    },
    {
      "cell_type": "markdown",
      "source": [
        "**For and While Loops**"
      ],
      "metadata": {
        "id": "QLtHEuSzBMZX"
      }
    },
    {
      "cell_type": "code",
      "source": [
        "# For Loop\n",
        "for i in range(5):\n",
        "    print(\"For Loop Iteration:\", i)\n",
        "\n",
        "# While Loop\n",
        "count = 0\n",
        "while count < 3:\n",
        "    print(\"While Loop Iteration:\", count)\n",
        "    count += 1"
      ],
      "metadata": {
        "colab": {
          "base_uri": "https://localhost:8080/"
        },
        "id": "piNpDqSeBNlr",
        "outputId": "70feb0d1-e260-4239-f803-db6144936749"
      },
      "execution_count": 4,
      "outputs": [
        {
          "output_type": "stream",
          "name": "stdout",
          "text": [
            "For Loop Iteration: 0\n",
            "For Loop Iteration: 1\n",
            "For Loop Iteration: 2\n",
            "For Loop Iteration: 3\n",
            "For Loop Iteration: 4\n",
            "While Loop Iteration: 0\n",
            "While Loop Iteration: 1\n",
            "While Loop Iteration: 2\n"
          ]
        }
      ]
    },
    {
      "cell_type": "markdown",
      "source": [
        "**Python Functions**\n",
        "\n",
        "Functions are reusable blocks of code designed to perform a single, specific task"
      ],
      "metadata": {
        "id": "wJfwiR5-BUJM"
      }
    },
    {
      "cell_type": "markdown",
      "source": [],
      "metadata": {
        "id": "HPndEVEFA14Q"
      }
    },
    {
      "cell_type": "code",
      "source": [
        "# Function Example\n",
        "def greet(name):\n",
        "    return f\"Hello, {name}!\"\n",
        "\n",
        "print(greet(\"Alice\"))\n",
        "print(greet(\"Bob\"))"
      ],
      "metadata": {
        "colab": {
          "base_uri": "https://localhost:8080/"
        },
        "id": "uDig_AdNBIDw",
        "outputId": "3f514811-0188-4fb2-8254-3423e04f969a"
      },
      "execution_count": 5,
      "outputs": [
        {
          "output_type": "stream",
          "name": "stdout",
          "text": [
            "Hello, Alice!\n",
            "Hello, Bob!\n"
          ]
        }
      ]
    },
    {
      "cell_type": "markdown",
      "source": [
        "**Python algorithms**\n",
        "<br>\n",
        "Bubble Sort"
      ],
      "metadata": {
        "id": "2WPC-oRLBZ_P"
      }
    },
    {
      "cell_type": "code",
      "source": [
        "def bubble_sort(arr):\n",
        "    n = len(arr)\n",
        "    for i in range(n):\n",
        "        for j in range(0, n-i-1):\n",
        "            if arr[j] > arr[j+1]:\n",
        "                arr[j], arr[j+1] = arr[j+1], arr[j]\n",
        "    return arr\n",
        "\n",
        "# Test Bubble Sort\n",
        "nums = [64, 34, 25, 12, 22, 11, 90]\n",
        "print(\"Original List:\", nums)\n",
        "print(\"Sorted List:\", bubble_sort(nums))\n"
      ],
      "metadata": {
        "colab": {
          "base_uri": "https://localhost:8080/"
        },
        "id": "nH3OphtZBX_z",
        "outputId": "704f9ddd-0a8e-45a6-f08c-be4a1fff2132"
      },
      "execution_count": 6,
      "outputs": [
        {
          "output_type": "stream",
          "name": "stdout",
          "text": [
            "Original List: [64, 34, 25, 12, 22, 11, 90]\n",
            "Sorted List: [11, 12, 22, 25, 34, 64, 90]\n"
          ]
        }
      ]
    },
    {
      "cell_type": "markdown",
      "source": [
        "**Linear Search**"
      ],
      "metadata": {
        "id": "D3eHeJPtBixJ"
      }
    },
    {
      "cell_type": "code",
      "source": [
        "def linear_search(arr, target):\n",
        "    for i in range(len(arr)):\n",
        "        if arr[i] == target:\n",
        "            return f\"Found at index {i}\"\n",
        "    return \"Not found\"\n",
        "\n",
        "# Test Linear Search\n",
        "nums = [10, 20, 30, 40, 50]\n",
        "target = 30\n",
        "print(linear_search(nums, target))\n"
      ],
      "metadata": {
        "colab": {
          "base_uri": "https://localhost:8080/"
        },
        "id": "kmgFqE2NBhP1",
        "outputId": "d7176a67-2160-4235-a621-c7346c44f9ee"
      },
      "execution_count": 7,
      "outputs": [
        {
          "output_type": "stream",
          "name": "stdout",
          "text": [
            "Found at index 2\n"
          ]
        }
      ]
    },
    {
      "cell_type": "code",
      "source": [],
      "metadata": {
        "id": "W1epjXY8BmR-"
      },
      "execution_count": null,
      "outputs": []
    }
  ]
}